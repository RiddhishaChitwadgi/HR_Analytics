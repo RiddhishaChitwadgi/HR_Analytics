{
 "cells": [
  {
   "cell_type": "code",
   "execution_count": 27,
   "metadata": {},
   "outputs": [],
   "source": [
    "import pandas as pd\n",
    "import numpy as np"
   ]
  },
  {
   "cell_type": "code",
   "execution_count": 28,
   "metadata": {},
   "outputs": [],
   "source": [
    "# Load the dataset\n",
    "file_path = 'Dataset_2023.csv'  \n",
    "df = pd.read_csv(file_path)"
   ]
  },
  {
   "cell_type": "code",
   "execution_count": 29,
   "metadata": {},
   "outputs": [
    {
     "name": "stdout",
     "output_type": "stream",
     "text": [
      "Initial Dataset:\n",
      "   _id              NAME           DEPARTMENT_NAME                    TITLE  \\\n",
      "0    1  Demesmin,Stanley  Boston Police Department  Police Lieutenant (Det)   \n",
      "1    2     Hosein,Haseeb  Boston Police Department       Police Captain/DDC   \n",
      "2    3   Conway,Kendra J  Boston Police Department           Police Officer   \n",
      "3    4      Smith,Sean P  Boston Police Department        Police Lieutenant   \n",
      "4    5  Danilecki,John H  Boston Police Department           Police Captain   \n",
      "\n",
      "     REGULAR  RETRO      OTHER   OVERTIME  INJURED   DETAIL  QUINN_EDUCATION  \\\n",
      "0  145775.26    NaN    6053.17  221579.41      NaN  23862.0         29155.26   \n",
      "1  162823.73    NaN  165669.88   34154.37      NaN   5472.0         40706.02   \n",
      "2  359942.30    NaN   48651.28        NaN      NaN      NaN              NaN   \n",
      "3  142535.62    NaN   20368.37  152031.33      NaN  51646.0         35633.88   \n",
      "4  162326.64    NaN   24504.13   96954.98      NaN  61512.0         40581.57   \n",
      "\n",
      "   TOTAL GROSS POSTAL  \n",
      "0    426425.10  02052  \n",
      "1    408826.00  02186  \n",
      "2    408593.58  02465  \n",
      "3    402215.20  02186  \n",
      "4    385879.32  02559  \n"
     ]
    }
   ],
   "source": [
    "# Display the first few rows of the dataset\n",
    "print(\"Initial Dataset:\")\n",
    "print(df.head())"
   ]
  },
  {
   "cell_type": "code",
   "execution_count": 30,
   "metadata": {},
   "outputs": [
    {
     "name": "stdout",
     "output_type": "stream",
     "text": [
      "\n",
      "Data Types:\n",
      "_id                  int64\n",
      "NAME                object\n",
      "DEPARTMENT_NAME     object\n",
      "TITLE               object\n",
      "REGULAR            float64\n",
      "RETRO              float64\n",
      "OTHER              float64\n",
      "OVERTIME           float64\n",
      "INJURED            float64\n",
      "DETAIL             float64\n",
      "QUINN_EDUCATION    float64\n",
      "TOTAL GROSS        float64\n",
      "POSTAL              object\n",
      "dtype: object\n"
     ]
    }
   ],
   "source": [
    "# Check data types\n",
    "print(\"\\nData Types:\")\n",
    "print(df.dtypes)"
   ]
  },
  {
   "cell_type": "code",
   "execution_count": 31,
   "metadata": {},
   "outputs": [],
   "source": [
    "# 4. Convert data type of POSTAL\n",
    "df['POSTAL'] = pd.to_numeric(df['POSTAL'], errors='coerce')"
   ]
  },
  {
   "cell_type": "code",
   "execution_count": 32,
   "metadata": {},
   "outputs": [
    {
     "name": "stdout",
     "output_type": "stream",
     "text": [
      "\n",
      "Missing Values:\n",
      "_id                    0\n",
      "NAME                   0\n",
      "DEPARTMENT_NAME        0\n",
      "TITLE                  0\n",
      "REGULAR             2245\n",
      "RETRO              11210\n",
      "OTHER               8414\n",
      "OVERTIME           18502\n",
      "INJURED            24652\n",
      "DETAIL             23653\n",
      "QUINN_EDUCATION    24493\n",
      "TOTAL GROSS            0\n",
      "POSTAL                80\n",
      "dtype: int64\n"
     ]
    }
   ],
   "source": [
    "# Check for missing values\n",
    "print(\"\\nMissing Values:\")\n",
    "print(df.isnull().sum())"
   ]
  },
  {
   "cell_type": "code",
   "execution_count": 33,
   "metadata": {},
   "outputs": [],
   "source": [
    "# Drop rows with missing 'POSTAL'\n",
    "df.dropna(subset=['POSTAL'], inplace=True)"
   ]
  },
  {
   "cell_type": "code",
   "execution_count": 34,
   "metadata": {},
   "outputs": [],
   "source": [
    "# Handle outliers\n",
    "# Calculate IQR for 'TOTAL GROSS'\n",
    "Q1 = df['TOTAL GROSS'].quantile(0.25)\n",
    "Q3 = df['TOTAL GROSS'].quantile(0.75)\n",
    "IQR = Q3 - Q1\n",
    "\n",
    "# Define bounds\n",
    "lower_bound = Q1 - 1.5 * IQR\n",
    "upper_bound = Q3 + 1.5 * IQR\n",
    "\n",
    "# Remove outliers\n",
    "df = df[(df['TOTAL GROSS'] >= lower_bound) & (df['TOTAL GROSS'] <= upper_bound)]"
   ]
  },
  {
   "cell_type": "code",
   "execution_count": 35,
   "metadata": {},
   "outputs": [],
   "source": [
    "# Remove duplicates\n",
    "df.drop_duplicates(inplace=True)"
   ]
  },
  {
   "cell_type": "code",
   "execution_count": 36,
   "metadata": {},
   "outputs": [],
   "source": [
    "# Reset index after cleaning\n",
    "df.reset_index(drop=True, inplace=True)"
   ]
  },
  {
   "cell_type": "code",
   "execution_count": 37,
   "metadata": {},
   "outputs": [
    {
     "name": "stdout",
     "output_type": "stream",
     "text": [
      "\n",
      "Cleaned Dataset:\n",
      "   _id                     NAME           DEPARTMENT_NAME  \\\n",
      "0  109           DeLeon,Winston  Boston Police Department   \n",
      "1  110         Ciccolo,Robert W  Boston Police Department   \n",
      "2  111    Counihan Jr.,Robert J    Boston Fire Department   \n",
      "3  112  Nicholas,Gregory Thomas    Boston Fire Department   \n",
      "4  113      Driscoll,Jeffery M.  Boston Police Department   \n",
      "\n",
      "                            TITLE    REGULAR  RETRO     OTHER  OVERTIME  \\\n",
      "0           Police Sergeant (Det)  128906.44    NaN  11198.13  81556.13   \n",
      "1                        Supn Bpd  193636.86    NaN  34271.22   4270.11   \n",
      "2  District Fire Chief-Technician  198594.27    NaN   8834.80  41085.61   \n",
      "3         Fire Captain-Technician  178573.46    NaN    550.00  59955.88   \n",
      "4                  Police Officer  100267.34    NaN    850.00  61798.26   \n",
      "\n",
      "   INJURED    DETAIL  QUINN_EDUCATION  TOTAL GROSS  POSTAL  \n",
      "0      NaN  26983.00         32226.80    280870.50  2136.0  \n",
      "1      NaN       NaN         48409.20    280587.39  2132.0  \n",
      "2      NaN  32048.00              NaN    280562.68  2066.0  \n",
      "3      NaN  41388.25              NaN    280467.59  2129.0  \n",
      "4      NaN  92392.00         25067.06    280374.66  2472.0  \n"
     ]
    }
   ],
   "source": [
    "# Display the cleaned dataset\n",
    "print(\"\\nCleaned Dataset:\")\n",
    "print(df.head())"
   ]
  },
  {
   "cell_type": "code",
   "execution_count": 26,
   "metadata": {},
   "outputs": [
    {
     "name": "stdout",
     "output_type": "stream",
     "text": [
      "\n",
      "Cleaned dataset saved to cleaned_dataset.csv\n"
     ]
    }
   ],
   "source": [
    "# Save the cleaned dataset to a new CSV file\n",
    "cleaned_file_path = 'cleaned_dataset.csv'  # Update with your desired file path\n",
    "df.to_csv(cleaned_file_path, index=False)\n",
    "print(f\"\\nCleaned dataset saved to {cleaned_file_path}\")"
   ]
  }
 ],
 "metadata": {
  "kernelspec": {
   "display_name": "Python 3",
   "language": "python",
   "name": "python3"
  },
  "language_info": {
   "codemirror_mode": {
    "name": "ipython",
    "version": 3
   },
   "file_extension": ".py",
   "mimetype": "text/x-python",
   "name": "python",
   "nbconvert_exporter": "python",
   "pygments_lexer": "ipython3",
   "version": "3.11.7"
  }
 },
 "nbformat": 4,
 "nbformat_minor": 2
}
